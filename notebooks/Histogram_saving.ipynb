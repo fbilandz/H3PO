{
 "cells": [
  {
   "cell_type": "code",
   "execution_count": 1,
   "id": "a0ce097a",
   "metadata": {},
   "outputs": [],
   "source": [
    "import uproot\n",
    "import awkward as ak\n",
    "import matplotlib.pyplot as plt\n",
    "import hist\n",
    "from hist import Hist\n",
    "import coffea\n",
    "from coffea.nanoevents import NanoEventsFactory, BaseSchema\n",
    "import coffea.processor as processor\n",
    "from coffea.nanoevents import NanoEventsFactory, NanoAODSchema\n",
    "import numpy as np\n",
    "import mplhep as hep\n"
   ]
  },
  {
   "cell_type": "code",
   "execution_count": 2,
   "id": "48447897",
   "metadata": {},
   "outputs": [],
   "source": [
    "fname = \"/eos/home-b/bchitrod/HHH/NANOAOD/TRSM_XToHY_6b_M3_2000_M2_1100_NANOAOD.root\" "
   ]
  },
  {
   "cell_type": "code",
   "execution_count": 3,
   "id": "a6128aa9",
   "metadata": {},
   "outputs": [],
   "source": [
    "def closest(masses):\n",
    "    delta = abs(125 - masses)\n",
    "    closest_masses = ak.min(delta, axis=1)\n",
    "    is_closest = (delta == closest_masses)\n",
    "    return is_closest\n",
    "\n",
    "def HbbvsQCD(fatjet):\n",
    "    score = (fatjet.particleNetMD_Xbb/(fatjet.particleNetMD_Xbb+fatjet.particleNetMD_QCD))\n",
    "    return score"
   ]
  },
  {
   "cell_type": "code",
   "execution_count": 4,
   "id": "8156c4bf",
   "metadata": {},
   "outputs": [],
   "source": [
    "def boosted(fname,oFile,processLabel=\"signal\",eventsToRead=None):\t\n",
    "    events = NanoEventsFactory.from_root(fname,schemaclass=NanoAODSchema,metadata={\"dataset\": \"testSignal\"},entry_stop=eventsToRead).events()\n",
    "\n",
    "    fatjets = events.FatJet\n",
    "    \n",
    "    #Fatjet cuts\n",
    "    ptcut = 250\n",
    "    etacut = 2.5\n",
    "    mass_cut = [100,150]\n",
    "    pNet_cut = 0.9105\n",
    "\n",
    "    good_fatjets = fatjets[(fatjets.pt>ptcut) & (np.absolute(fatjets.eta)<etacut) & (fatjets.msoftdrop>=mass_cut[0]) & (fatjets.msoftdrop<=mass_cut[1])]\n",
    "    pre_boosted_fatjets = good_fatjets[ak.num(good_fatjets, axis=1)> 2]\n",
    "    pre_boosted_events = events[ak.num(good_fatjets, axis=1)> 2]\n",
    "    #Btag cut applied at the end\n",
    "    btag_boosted = pre_boosted_fatjets[HbbvsQCD(pre_boosted_fatjets)>=pNet_cut]\n",
    "    btag_boosted_fatjets = btag_boosted[ak.num(btag_boosted, axis=1)> 2]\n",
    "    btag_boosted_events = pre_boosted_events[ak.num(btag_boosted, axis=1)> 2]\n",
    "\n",
    "    return btag_boosted_fatjets\n"
   ]
  },
  {
   "cell_type": "code",
   "execution_count": 5,
   "id": "5043f50d",
   "metadata": {},
   "outputs": [],
   "source": [
    "def plotMassDist(fname,oFile,processLabel=\"signal\",eventsToRead=None):\n",
    "\n",
    "    good_boosted = boosted(fname,oFile,processLabel=\"Signal\",eventsToRead=None)\n",
    "\n",
    "    trijet_mass = (good_boosted[:,0]+good_boosted[:,1]+good_boosted[:,2]).mass\n",
    "    #calc inv mass of trijets by lorentz v. sum of three leading jets\n",
    "\n",
    "    j3_bin = hist.axis.Regular(label=\"Trijet Mass [GeV]\", name=\"trijet_mass\", bins=40, start=0, stop=6000)\n",
    "    j3_cat = hist.axis.StrCategory(label='Trijets', name='trijet', categories=[processLabel])\n",
    "\n",
    "    j3_hist = Hist(j3_bin, j3_cat)\n",
    "    j3_hist.fill(trijet=processLabel, trijet_mass=trijet_mass)\n",
    "\n",
    "    plt.style.use([hep.style.CMS])\n",
    "    j3_hist.plot(color=\"black\")\n",
    "    hep.cms.text(\"Work in progress\",loc=0)\n",
    "    plt.ylabel(\"Event count\",horizontalalignment='right', y=1.0)\n",
    "    plt.legend()\n",
    "    plt.savefig(\"MJJJ_btag_{0}.png\".format(oFile))\n",
    "    plt.cla()\n",
    "    plt.clf()\n",
    "\n",
    "    #-----MJJ calc and plotting-----#\n",
    "\n",
    "\n",
    "    dijet1_mass = (good_boosted[:,0]+good_boosted[:,1]).mass\n",
    "    #calc inv mass of first dijet combination\n",
    "\n",
    "    dijet2_mass = (good_boosted[:,0]+good_boosted[:,2]).mass\n",
    "    #calc inv mass of second dijet combination\n",
    "\n",
    "    dijet3_mass = (good_boosted[:,1]+good_boosted[:,2]).mass\n",
    "    #calc inv mass of third dijet combination\n",
    "\n",
    "    j2_bin = hist.axis.Regular(label=\"Dijet Mass [GeV]\", name=\"dijet_mass\", bins=40, start=0, stop=4000)\n",
    "    j2_cat = hist.axis.StrCategory(label='Dijets', name='dijet', categories=[\"12 Pair\",\"13 Pair\",\"23 Pair\"])\n",
    "\n",
    "    j2_hist = Hist(j2_bin, j2_cat)\n",
    "\n",
    "    j2_hist.fill(dijet=\"12 Pair\", dijet_mass=dijet1_mass)\n",
    "    j2_hist.fill(dijet=\"13 Pair\", dijet_mass=dijet2_mass)\n",
    "    j2_hist.fill(dijet=\"23 Pair\", dijet_mass=dijet3_mass)\n",
    "    \n",
    "    mjj12_vs_mjjj = Hist(j3_bin,j2_bin)\n",
    "    mjj12_vs_mjjj.fill(dijet_mass=dijet1_mass,trijet_mass=trijet_mass)\n",
    "    mjj13_vs_mjjj = Hist(j3_bin,j2_bin)\n",
    "    mjj13_vs_mjjj.fill(dijet_mass=dijet2_mass,trijet_mass=trijet_mass)\n",
    "    mjj23_vs_mjjj = Hist(j3_bin,j2_bin)\n",
    "    mjj23_vs_mjjj.fill(dijet_mass=dijet3_mass,trijet_mass=trijet_mass)\n",
    "    \n",
    "    j2_hist.plot(stack=True,histtype='fill',ec=\"black\",fc=[\"violet\",\"skyblue\",\"khaki\"])\n",
    "    hep.cms.text(\"Work in progress\",loc=0)\n",
    "    plt.ylabel(\"Event count\",horizontalalignment='right', y=1.0)\n",
    "    plt.legend()\n",
    "    plt.savefig(\"MJJ_btag_{0}.png\".format(oFile))\n",
    "    print(\"Saved MJJ_btag_{0}.png\".format(oFile))\n",
    "    plt.cla()\n",
    "    plt.clf()\n",
    "    return mjj12_vs_mjjj,mjj13_vs_mjjj,mjj23_vs_mjjj "
   ]
  },
  {
   "cell_type": "code",
   "execution_count": 6,
   "id": "5ae2ca60",
   "metadata": {},
   "outputs": [
    {
     "name": "stdout",
     "output_type": "stream",
     "text": [
      "Saved MJJ_btag_output.png\n"
     ]
    },
    {
     "data": {
      "text/plain": [
       "<Figure size 720x720 with 0 Axes>"
      ]
     },
     "metadata": {},
     "output_type": "display_data"
    }
   ],
   "source": [
    "oFile = \"output\"\n",
    "mjj12_vs_mjjj, mjj13_vs_mjjj, mjj23_vs_mjjj = plotMassDist(fname,oFile,processLabel=\"signal\",eventsToRead=None)\n"
   ]
  },
  {
   "cell_type": "code",
   "execution_count": 7,
   "id": "bdc274a5",
   "metadata": {},
   "outputs": [
    {
     "name": "stdout",
     "output_type": "stream",
     "text": [
      "[('mjj12_vs_mjjj;1', <TH2D (version 4) at 0x7f82806afc70>), ('mjj13_vs_mjjj;1', <TH2D (version 4) at 0x7f822bff14c0>), ('mjj23_vs_mjjj;1', <TH2D (version 4) at 0x7f820bd0a6a0>)]\n"
     ]
    }
   ],
   "source": [
    "with uproot.recreate(\"output.root\") as fout:\n",
    "    fout[f\"mjj12_vs_mjjj\"] = mjj12_vs_mjjj\n",
    "    fout[f\"mjj13_vs_mjjj\"] = mjj13_vs_mjjj\n",
    "    fout[f\"mjj23_vs_mjjj\"] = mjj23_vs_mjjj\n",
    "        \n",
    "with uproot.open(\"output.root\") as fin:\n",
    "    print(fin.items())"
   ]
  },
  {
   "cell_type": "code",
   "execution_count": null,
   "id": "02f94ee9",
   "metadata": {},
   "outputs": [],
   "source": []
  }
 ],
 "metadata": {
  "kernelspec": {
   "display_name": "Python 3",
   "language": "python",
   "name": "python3"
  },
  "language_info": {
   "codemirror_mode": {
    "name": "ipython",
    "version": 3
   },
   "file_extension": ".py",
   "mimetype": "text/x-python",
   "name": "python",
   "nbconvert_exporter": "python",
   "pygments_lexer": "ipython3",
   "version": "3.9.12"
  }
 },
 "nbformat": 4,
 "nbformat_minor": 5
}
